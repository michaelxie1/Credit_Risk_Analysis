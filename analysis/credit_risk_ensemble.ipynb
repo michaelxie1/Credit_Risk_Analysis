{
 "cells": [
  {
   "cell_type": "code",
   "execution_count": 1,
   "id": "7ba7514b",
   "metadata": {},
   "outputs": [],
   "source": [
    "import warnings\n",
    "warnings.filterwarnings('ignore')"
   ]
  },
  {
   "cell_type": "code",
   "execution_count": 2,
   "id": "1eb13425",
   "metadata": {},
   "outputs": [],
   "source": [
    "import numpy as np\n",
    "import pandas as pd\n",
    "from pathlib import Path\n",
    "from collections import Counter"
   ]
  },
  {
   "cell_type": "code",
   "execution_count": 3,
   "id": "07b4183e",
   "metadata": {},
   "outputs": [],
   "source": [
    "from sklearn.metrics import balanced_accuracy_score\n",
    "from sklearn.metrics import confusion_matrix\n",
    "from imblearn.metrics import classification_report_imbalanced"
   ]
  },
  {
   "cell_type": "code",
   "execution_count": 4,
   "id": "b899ec4d",
   "metadata": {},
   "outputs": [],
   "source": [
    "\n",
    "columns = [\n",
    "    \"loan_amnt\", \"int_rate\", \"installment\", \"home_ownership\",\n",
    "    \"annual_inc\", \"verification_status\", \"issue_d\", \"loan_status\",\n",
    "    \"pymnt_plan\", \"dti\", \"delinq_2yrs\", \"inq_last_6mths\",\n",
    "    \"open_acc\", \"pub_rec\", \"revol_bal\", \"total_acc\",\n",
    "    \"initial_list_status\", \"out_prncp\", \"out_prncp_inv\", \"total_pymnt\",\n",
    "    \"total_pymnt_inv\", \"total_rec_prncp\", \"total_rec_int\", \"total_rec_late_fee\",\n",
    "    \"recoveries\", \"collection_recovery_fee\", \"last_pymnt_amnt\", \"next_pymnt_d\",\n",
    "    \"collections_12_mths_ex_med\", \"policy_code\", \"application_type\", \"acc_now_delinq\",\n",
    "    \"tot_coll_amt\", \"tot_cur_bal\", \"open_acc_6m\", \"open_act_il\",\n",
    "    \"open_il_12m\", \"open_il_24m\", \"mths_since_rcnt_il\", \"total_bal_il\",\n",
    "    \"il_util\", \"open_rv_12m\", \"open_rv_24m\", \"max_bal_bc\",\n",
    "    \"all_util\", \"total_rev_hi_lim\", \"inq_fi\", \"total_cu_tl\",\n",
    "    \"inq_last_12m\", \"acc_open_past_24mths\", \"avg_cur_bal\", \"bc_open_to_buy\",\n",
    "    \"bc_util\", \"chargeoff_within_12_mths\", \"delinq_amnt\", \"mo_sin_old_il_acct\",\n",
    "    \"mo_sin_old_rev_tl_op\", \"mo_sin_rcnt_rev_tl_op\", \"mo_sin_rcnt_tl\", \"mort_acc\",\n",
    "    \"mths_since_recent_bc\", \"mths_since_recent_inq\", \"num_accts_ever_120_pd\", \"num_actv_bc_tl\",\n",
    "    \"num_actv_rev_tl\", \"num_bc_sats\", \"num_bc_tl\", \"num_il_tl\",\n",
    "    \"num_op_rev_tl\", \"num_rev_accts\", \"num_rev_tl_bal_gt_0\",\n",
    "    \"num_sats\", \"num_tl_120dpd_2m\", \"num_tl_30dpd\", \"num_tl_90g_dpd_24m\",\n",
    "    \"num_tl_op_past_12m\", \"pct_tl_nvr_dlq\", \"percent_bc_gt_75\", \"pub_rec_bankruptcies\",\n",
    "    \"tax_liens\", \"tot_hi_cred_lim\", \"total_bal_ex_mort\", \"total_bc_limit\",\n",
    "    \"total_il_high_credit_limit\", \"hardship_flag\", \"debt_settlement_flag\"\n",
    "]\n",
    "\n",
    "target = [\"loan_status\"]"
   ]
  },
  {
   "cell_type": "code",
   "execution_count": 5,
   "id": "dad5bed3",
   "metadata": {},
   "outputs": [
    {
     "data": {
      "text/html": [
       "<div>\n",
       "<style scoped>\n",
       "    .dataframe tbody tr th:only-of-type {\n",
       "        vertical-align: middle;\n",
       "    }\n",
       "\n",
       "    .dataframe tbody tr th {\n",
       "        vertical-align: top;\n",
       "    }\n",
       "\n",
       "    .dataframe thead th {\n",
       "        text-align: right;\n",
       "    }\n",
       "</style>\n",
       "<table border=\"1\" class=\"dataframe\">\n",
       "  <thead>\n",
       "    <tr style=\"text-align: right;\">\n",
       "      <th></th>\n",
       "      <th>loan_amnt</th>\n",
       "      <th>int_rate</th>\n",
       "      <th>installment</th>\n",
       "      <th>home_ownership</th>\n",
       "      <th>annual_inc</th>\n",
       "      <th>verification_status</th>\n",
       "      <th>issue_d</th>\n",
       "      <th>loan_status</th>\n",
       "      <th>pymnt_plan</th>\n",
       "      <th>dti</th>\n",
       "      <th>...</th>\n",
       "      <th>pct_tl_nvr_dlq</th>\n",
       "      <th>percent_bc_gt_75</th>\n",
       "      <th>pub_rec_bankruptcies</th>\n",
       "      <th>tax_liens</th>\n",
       "      <th>tot_hi_cred_lim</th>\n",
       "      <th>total_bal_ex_mort</th>\n",
       "      <th>total_bc_limit</th>\n",
       "      <th>total_il_high_credit_limit</th>\n",
       "      <th>hardship_flag</th>\n",
       "      <th>debt_settlement_flag</th>\n",
       "    </tr>\n",
       "  </thead>\n",
       "  <tbody>\n",
       "    <tr>\n",
       "      <th>0</th>\n",
       "      <td>10500.0</td>\n",
       "      <td>0.1719</td>\n",
       "      <td>375.35</td>\n",
       "      <td>RENT</td>\n",
       "      <td>66000.0</td>\n",
       "      <td>Source Verified</td>\n",
       "      <td>Mar-2019</td>\n",
       "      <td>low_risk</td>\n",
       "      <td>n</td>\n",
       "      <td>27.24</td>\n",
       "      <td>...</td>\n",
       "      <td>85.7</td>\n",
       "      <td>100.0</td>\n",
       "      <td>0.0</td>\n",
       "      <td>0.0</td>\n",
       "      <td>65687.0</td>\n",
       "      <td>38199.0</td>\n",
       "      <td>2000.0</td>\n",
       "      <td>61987.0</td>\n",
       "      <td>N</td>\n",
       "      <td>N</td>\n",
       "    </tr>\n",
       "    <tr>\n",
       "      <th>1</th>\n",
       "      <td>25000.0</td>\n",
       "      <td>0.2000</td>\n",
       "      <td>929.09</td>\n",
       "      <td>MORTGAGE</td>\n",
       "      <td>105000.0</td>\n",
       "      <td>Verified</td>\n",
       "      <td>Mar-2019</td>\n",
       "      <td>low_risk</td>\n",
       "      <td>n</td>\n",
       "      <td>20.23</td>\n",
       "      <td>...</td>\n",
       "      <td>91.2</td>\n",
       "      <td>50.0</td>\n",
       "      <td>1.0</td>\n",
       "      <td>0.0</td>\n",
       "      <td>271427.0</td>\n",
       "      <td>60641.0</td>\n",
       "      <td>41200.0</td>\n",
       "      <td>49197.0</td>\n",
       "      <td>N</td>\n",
       "      <td>N</td>\n",
       "    </tr>\n",
       "    <tr>\n",
       "      <th>2</th>\n",
       "      <td>20000.0</td>\n",
       "      <td>0.2000</td>\n",
       "      <td>529.88</td>\n",
       "      <td>MORTGAGE</td>\n",
       "      <td>56000.0</td>\n",
       "      <td>Verified</td>\n",
       "      <td>Mar-2019</td>\n",
       "      <td>low_risk</td>\n",
       "      <td>n</td>\n",
       "      <td>24.26</td>\n",
       "      <td>...</td>\n",
       "      <td>66.7</td>\n",
       "      <td>50.0</td>\n",
       "      <td>0.0</td>\n",
       "      <td>0.0</td>\n",
       "      <td>60644.0</td>\n",
       "      <td>45684.0</td>\n",
       "      <td>7500.0</td>\n",
       "      <td>43144.0</td>\n",
       "      <td>N</td>\n",
       "      <td>N</td>\n",
       "    </tr>\n",
       "    <tr>\n",
       "      <th>3</th>\n",
       "      <td>10000.0</td>\n",
       "      <td>0.1640</td>\n",
       "      <td>353.55</td>\n",
       "      <td>RENT</td>\n",
       "      <td>92000.0</td>\n",
       "      <td>Verified</td>\n",
       "      <td>Mar-2019</td>\n",
       "      <td>low_risk</td>\n",
       "      <td>n</td>\n",
       "      <td>31.44</td>\n",
       "      <td>...</td>\n",
       "      <td>100.0</td>\n",
       "      <td>50.0</td>\n",
       "      <td>1.0</td>\n",
       "      <td>0.0</td>\n",
       "      <td>99506.0</td>\n",
       "      <td>68784.0</td>\n",
       "      <td>19700.0</td>\n",
       "      <td>76506.0</td>\n",
       "      <td>N</td>\n",
       "      <td>N</td>\n",
       "    </tr>\n",
       "    <tr>\n",
       "      <th>4</th>\n",
       "      <td>22000.0</td>\n",
       "      <td>0.1474</td>\n",
       "      <td>520.39</td>\n",
       "      <td>MORTGAGE</td>\n",
       "      <td>52000.0</td>\n",
       "      <td>Not Verified</td>\n",
       "      <td>Mar-2019</td>\n",
       "      <td>low_risk</td>\n",
       "      <td>n</td>\n",
       "      <td>18.76</td>\n",
       "      <td>...</td>\n",
       "      <td>100.0</td>\n",
       "      <td>0.0</td>\n",
       "      <td>0.0</td>\n",
       "      <td>0.0</td>\n",
       "      <td>219750.0</td>\n",
       "      <td>25919.0</td>\n",
       "      <td>27600.0</td>\n",
       "      <td>20000.0</td>\n",
       "      <td>N</td>\n",
       "      <td>N</td>\n",
       "    </tr>\n",
       "  </tbody>\n",
       "</table>\n",
       "<p>5 rows × 86 columns</p>\n",
       "</div>"
      ],
      "text/plain": [
       "   loan_amnt  int_rate  installment home_ownership  annual_inc  \\\n",
       "0    10500.0    0.1719       375.35           RENT     66000.0   \n",
       "1    25000.0    0.2000       929.09       MORTGAGE    105000.0   \n",
       "2    20000.0    0.2000       529.88       MORTGAGE     56000.0   \n",
       "3    10000.0    0.1640       353.55           RENT     92000.0   \n",
       "4    22000.0    0.1474       520.39       MORTGAGE     52000.0   \n",
       "\n",
       "  verification_status   issue_d loan_status pymnt_plan    dti  ...  \\\n",
       "0     Source Verified  Mar-2019    low_risk          n  27.24  ...   \n",
       "1            Verified  Mar-2019    low_risk          n  20.23  ...   \n",
       "2            Verified  Mar-2019    low_risk          n  24.26  ...   \n",
       "3            Verified  Mar-2019    low_risk          n  31.44  ...   \n",
       "4        Not Verified  Mar-2019    low_risk          n  18.76  ...   \n",
       "\n",
       "   pct_tl_nvr_dlq  percent_bc_gt_75  pub_rec_bankruptcies  tax_liens  \\\n",
       "0            85.7             100.0                   0.0        0.0   \n",
       "1            91.2              50.0                   1.0        0.0   \n",
       "2            66.7              50.0                   0.0        0.0   \n",
       "3           100.0              50.0                   1.0        0.0   \n",
       "4           100.0               0.0                   0.0        0.0   \n",
       "\n",
       "   tot_hi_cred_lim  total_bal_ex_mort total_bc_limit  \\\n",
       "0          65687.0            38199.0         2000.0   \n",
       "1         271427.0            60641.0        41200.0   \n",
       "2          60644.0            45684.0         7500.0   \n",
       "3          99506.0            68784.0        19700.0   \n",
       "4         219750.0            25919.0        27600.0   \n",
       "\n",
       "   total_il_high_credit_limit  hardship_flag  debt_settlement_flag  \n",
       "0                     61987.0              N                     N  \n",
       "1                     49197.0              N                     N  \n",
       "2                     43144.0              N                     N  \n",
       "3                     76506.0              N                     N  \n",
       "4                     20000.0              N                     N  \n",
       "\n",
       "[5 rows x 86 columns]"
      ]
     },
     "execution_count": 5,
     "metadata": {},
     "output_type": "execute_result"
    }
   ],
   "source": [
    "# Load the data\n",
    "file_path = Path('LoanStats_2019Q1.csv')\n",
    "df = pd.read_csv(file_path, skiprows=1)[:-2]\n",
    "df = df.loc[:, columns].copy()\n",
    "\n",
    "# Drop the null columns where all values are null\n",
    "df = df.dropna(axis='columns', how='all')\n",
    "\n",
    "# Drop the null rows\n",
    "df = df.dropna()\n",
    "\n",
    "# Remove the `Issued` loan status\n",
    "issued_mask = df['loan_status'] != 'Issued'\n",
    "df = df.loc[issued_mask]\n",
    "\n",
    "# convert interest rate to numerical\n",
    "df['int_rate'] = df['int_rate'].str.replace('%', '')\n",
    "df['int_rate'] = df['int_rate'].astype('float') / 100\n",
    "\n",
    "\n",
    "# Convert the target column values to low_risk and high_risk based on their values\n",
    "x = {'Current': 'low_risk'}   \n",
    "df = df.replace(x)\n",
    "\n",
    "x = dict.fromkeys(['Late (31-120 days)', 'Late (16-30 days)', 'Default', 'In Grace Period'], 'high_risk')    \n",
    "df = df.replace(x)\n",
    "\n",
    "df.reset_index(inplace=True, drop=True)\n",
    "\n",
    "df.head()"
   ]
  },
  {
   "cell_type": "code",
   "execution_count": 6,
   "id": "e0939046",
   "metadata": {},
   "outputs": [],
   "source": [
    "# Create our features\n",
    "feature_df = pd.get_dummies(df, columns=[\"home_ownership\",\"verification_status\",\"issue_d\",\n",
    "                                \"pymnt_plan\", \"hardship_flag\", \"debt_settlement_flag\", \n",
    "                                         \"initial_list_status\", \"next_pymnt_d\", \n",
    "                                         \"application_type\"])\n",
    "\n",
    "X = feature_df.drop(columns=\"loan_status\")\n",
    "\n",
    "# Create our target\n",
    "y =  df[\"loan_status\"]"
   ]
  },
  {
   "cell_type": "code",
   "execution_count": 7,
   "id": "3e3cc940",
   "metadata": {},
   "outputs": [
    {
     "data": {
      "text/plain": [
       "loan_status\n",
       "low_risk     68470\n",
       "high_risk      347\n",
       "Name: count, dtype: int64"
      ]
     },
     "execution_count": 7,
     "metadata": {},
     "output_type": "execute_result"
    }
   ],
   "source": [
    "# Check the balance of our target values\n",
    "y.value_counts()"
   ]
  },
  {
   "cell_type": "code",
   "execution_count": 8,
   "id": "9de92a86",
   "metadata": {},
   "outputs": [
    {
     "data": {
      "text/plain": [
       "Counter({'low_risk': 51352, 'high_risk': 260})"
      ]
     },
     "execution_count": 8,
     "metadata": {},
     "output_type": "execute_result"
    }
   ],
   "source": [
    "from sklearn.model_selection import train_test_split\n",
    "X_train, X_test, y_train, y_test = train_test_split(X, \n",
    "                                                    y, \n",
    "                                                    random_state=1, \n",
    "                                                    stratify=y)\n",
    "X_train.shape\n",
    "Counter(y_train)"
   ]
  },
  {
   "cell_type": "markdown",
   "id": "43a222a6",
   "metadata": {},
   "source": [
    "# Ensemble Learners\n",
    "\n",
    "In this section, you will compare two ensemble algorithms to determine which algorithm results in the best performance. You will train a Balanced Random Forest Classifier and an Easy Ensemble AdaBoost classifier . For each algorithm, be sure to complete the folliowing steps:\n",
    "\n",
    "1. Train the model using the training data. \n",
    "2. Calculate the balanced accuracy score from sklearn.metrics.\n",
    "3. Print the confusion matrix from sklearn.metrics.\n",
    "4. Generate a classication report using the `imbalanced_classification_report` from imbalanced-learn.\n",
    "5. For the Balanced Random Forest Classifier onely, print the feature importance sorted in descending order (most important feature to least important) along with the feature score\n",
    "\n",
    "Note: Use a random state of 1 for each algorithm to ensure consistency between tests"
   ]
  },
  {
   "cell_type": "markdown",
   "id": "6e17b4d4",
   "metadata": {},
   "source": [
    "### Balanced Random Forest Classifier"
   ]
  },
  {
   "cell_type": "code",
   "execution_count": 9,
   "id": "0872a65f",
   "metadata": {},
   "outputs": [],
   "source": [
    "from sklearn.preprocessing import StandardScaler\n",
    "\n",
    "#First create standard scalar\n",
    "scaler = StandardScaler()\n",
    "\n",
    "#Fit scalar to training data\n",
    "X_scaler = scaler.fit(X_train)\n",
    "\n",
    "#Scale data\n",
    "X_train_scale = X_scaler.transform(X_train)\n",
    "X_test_scale = X_scaler.transform(X_test)"
   ]
  },
  {
   "cell_type": "code",
   "execution_count": 10,
   "id": "bfd9fd63",
   "metadata": {},
   "outputs": [],
   "source": [
    "# Resample the training data with the BalancedRandomForestClassifier\n",
    "from imblearn.ensemble import BalancedRandomForestClassifier\n",
    "rand_forest_model = BalancedRandomForestClassifier(n_estimators=100, random_state=1) \n",
    "\n",
    "#Fit the model\n",
    "rand_forest_model = rand_forest_model.fit(X_train_scale, y_train)"
   ]
  },
  {
   "cell_type": "code",
   "execution_count": 11,
   "id": "8b68ceaf",
   "metadata": {},
   "outputs": [],
   "source": [
    "# Resample the training data with the BalancedRandomForestClassifier\n",
    "from imblearn.ensemble import BalancedRandomForestClassifier\n",
    "rand_forest_model = BalancedRandomForestClassifier(n_estimators=100, random_state=1) \n",
    "\n",
    "#Fit the model\n",
    "rand_forest_model = rand_forest_model.fit(X_train_scale, y_train)"
   ]
  },
  {
   "cell_type": "code",
   "execution_count": 12,
   "id": "47c166c2-df2f-4828-b09c-a4aa21bf0bc4",
   "metadata": {},
   "outputs": [
    {
     "data": {
      "text/plain": [
       "0.8877651845393781"
      ]
     },
     "execution_count": 12,
     "metadata": {},
     "output_type": "execute_result"
    }
   ],
   "source": [
    "# Calculated the balanced accuracy score\n",
    "# Making predictions using the testing data.\n",
    "from sklearn.metrics import accuracy_score\n",
    "\n",
    "predictions = rand_forest_model.predict(X_test_scale)\n",
    "\n",
    "# Calculating the accuracy score.\n",
    "accurate_score = accuracy_score(y_test, predictions)\n",
    "accurate_score"
   ]
  },
  {
   "cell_type": "code",
   "execution_count": 13,
   "id": "19146b62-1ad8-4832-bd6a-7827fbdc7299",
   "metadata": {},
   "outputs": [
    {
     "data": {
      "text/html": [
       "<div>\n",
       "<style scoped>\n",
       "    .dataframe tbody tr th:only-of-type {\n",
       "        vertical-align: middle;\n",
       "    }\n",
       "\n",
       "    .dataframe tbody tr th {\n",
       "        vertical-align: top;\n",
       "    }\n",
       "\n",
       "    .dataframe thead th {\n",
       "        text-align: right;\n",
       "    }\n",
       "</style>\n",
       "<table border=\"1\" class=\"dataframe\">\n",
       "  <thead>\n",
       "    <tr style=\"text-align: right;\">\n",
       "      <th></th>\n",
       "      <th>Predicted High Risk</th>\n",
       "      <th>Predicted Low Risk</th>\n",
       "    </tr>\n",
       "  </thead>\n",
       "  <tbody>\n",
       "    <tr>\n",
       "      <th>Actual High Risk</th>\n",
       "      <td>59</td>\n",
       "      <td>28</td>\n",
       "    </tr>\n",
       "    <tr>\n",
       "      <th>Actual Low Risk</th>\n",
       "      <td>1903</td>\n",
       "      <td>15215</td>\n",
       "    </tr>\n",
       "  </tbody>\n",
       "</table>\n",
       "</div>"
      ],
      "text/plain": [
       "                  Predicted High Risk  Predicted Low Risk\n",
       "Actual High Risk                   59                  28\n",
       "Actual Low Risk                  1903               15215"
      ]
     },
     "execution_count": 13,
     "metadata": {},
     "output_type": "execute_result"
    }
   ],
   "source": [
    "# Display the confusion matrix\n",
    "from sklearn.metrics import confusion_matrix\n",
    "\n",
    "con_mat= confusion_matrix(y_test, predictions)\n",
    "\n",
    "con_mat_df = pd.DataFrame(\n",
    "    con_mat, index=[\"Actual High Risk\", \"Actual Low Risk\"], columns=[\"Predicted High Risk\", \"Predicted Low Risk\"]\n",
    ")\n",
    "\n",
    "con_mat_df\n"
   ]
  },
  {
   "cell_type": "code",
   "execution_count": 14,
   "id": "edae9e1e-927b-4e18-b7e2-39901e9bac3c",
   "metadata": {},
   "outputs": [
    {
     "name": "stdout",
     "output_type": "stream",
     "text": [
      "                   pre       rec       spe        f1       geo       iba       sup\n",
      "\n",
      "  high_risk       0.03      0.68      0.89      0.06      0.78      0.59        87\n",
      "   low_risk       1.00      0.89      0.68      0.94      0.78      0.62     17118\n",
      "\n",
      "avg / total       0.99      0.89      0.68      0.94      0.78      0.62     17205\n",
      "\n"
     ]
    }
   ],
   "source": [
    "# Print the imbalanced classification report\n",
    "from imblearn.metrics import classification_report_imbalanced\n",
    "print(classification_report_imbalanced(y_test, predictions))"
   ]
  },
  {
   "cell_type": "code",
   "execution_count": 15,
   "id": "529b4aef-50ae-4402-a374-c99cfa815f17",
   "metadata": {},
   "outputs": [
    {
     "name": "stdout",
     "output_type": "stream",
     "text": [
      "total_rec_prncp: (0.06960644414860838)\n",
      "total_pymnt: (0.06699503615040067)\n",
      "last_pymnt_amnt: (0.06213990295327954)\n",
      "total_pymnt_inv: (0.05703694960378033)\n",
      "total_rec_int: (0.052270035291436354)\n",
      "int_rate: (0.025355289144477468)\n",
      "issue_d_Jan-2019: (0.019247877968571785)\n",
      "max_bal_bc: (0.01817900907731312)\n",
      "out_prncp_inv: (0.017524409701876367)\n",
      "installment: (0.016359227494961763)\n",
      "dti: (0.01632771758647055)\n",
      "mo_sin_old_il_acct: (0.015972739451199248)\n",
      "mths_since_recent_inq: (0.015434210329092524)\n",
      "mths_since_rcnt_il: (0.01538345741149803)\n",
      "annual_inc: (0.015245724461394786)\n",
      "il_util: (0.015167606539366274)\n",
      "out_prncp: (0.014690968526685161)\n",
      "mo_sin_old_rev_tl_op: (0.01456637299632499)\n",
      "total_rev_hi_lim: (0.013731232681265318)\n",
      "bc_util: (0.013650967422793616)\n",
      "avg_cur_bal: (0.013616891854776984)\n",
      "tot_cur_bal: (0.013248779331435956)\n",
      "mths_since_recent_bc: (0.01321976557126906)\n",
      "bc_open_to_buy: (0.013119073989661252)\n",
      "total_bc_limit: (0.013099060998813663)\n",
      "revol_bal: (0.012898690328231996)\n",
      "loan_amnt: (0.01286771950025326)\n",
      "tot_hi_cred_lim: (0.01275513007857289)\n",
      "total_bal_ex_mort: (0.012724456278631759)\n",
      "total_bal_il: (0.012603923951939685)\n",
      "total_il_high_credit_limit: (0.011658629318799912)\n",
      "num_actv_rev_tl: (0.011658109025548117)\n",
      "issue_d_Mar-2019: (0.01141008750846616)\n",
      "mo_sin_rcnt_rev_tl_op: (0.011070976843654165)\n",
      "open_acc: (0.010910230365127931)\n",
      "inq_last_12m: (0.01089799881927544)\n",
      "num_rev_accts: (0.01077777048494109)\n",
      "all_util: (0.010558414503221137)\n",
      "num_rev_tl_bal_gt_0: (0.010375163760979219)\n",
      "num_il_tl: (0.00987659890368516)\n",
      "num_sats: (0.009662118380528252)\n",
      "mo_sin_rcnt_tl: (0.009464107311767446)\n",
      "total_acc: (0.00938321738760733)\n",
      "total_cu_tl: (0.009013275908550883)\n",
      "open_il_24m: (0.008471324929605357)\n",
      "open_rv_24m: (0.008426261104783476)\n",
      "pct_tl_nvr_dlq: (0.00839227356018613)\n",
      "acc_open_past_24mths: (0.008198483025563452)\n",
      "num_bc_tl: (0.007855874855730331)\n",
      "num_actv_bc_tl: (0.007640992716692139)\n",
      "num_op_rev_tl: (0.007600976743510987)\n",
      "num_tl_op_past_12m: (0.0072417201744537805)\n",
      "mort_acc: (0.006762848584086985)\n",
      "next_pymnt_d_May-2019: (0.006473614854860952)\n",
      "percent_bc_gt_75: (0.00634421188647261)\n",
      "num_bc_sats: (0.00631732390385656)\n",
      "inq_last_6mths: (0.006012081883169714)\n",
      "issue_d_Feb-2019: (0.005869785420226893)\n",
      "open_act_il: (0.005800718278526379)\n",
      "total_rec_late_fee: (0.005455271198423171)\n",
      "inq_fi: (0.005452290164755318)\n",
      "delinq_2yrs: (0.005042843864228602)\n",
      "open_rv_12m: (0.004942917914485815)\n",
      "tot_coll_amt: (0.004580634580238546)\n",
      "open_il_12m: (0.004364154342811426)\n",
      "open_acc_6m: (0.00426452840963597)\n",
      "verification_status_Verified: (0.002943521415682614)\n",
      "next_pymnt_d_Apr-2019: (0.00244789071538727)\n",
      "num_accts_ever_120_pd: (0.002111978609196559)\n",
      "home_ownership_RENT: (0.0020992168402778595)\n",
      "home_ownership_OWN: (0.002000606278433356)\n",
      "pub_rec: (0.0018978999121854398)\n",
      "verification_status_Source Verified: (0.0018343859386861572)\n",
      "application_type_Individual: (0.0017238204110689812)\n",
      "home_ownership_MORTGAGE: (0.0016736866149345978)\n",
      "initial_list_status_f: (0.001564387391411819)\n",
      "application_type_Joint App: (0.0015002336367201006)\n",
      "verification_status_Not Verified: (0.0014871586278881294)\n",
      "pub_rec_bankruptcies: (0.0012086504408845577)\n",
      "num_tl_90g_dpd_24m: (0.0009757871982391704)\n",
      "initial_list_status_w: (0.0009623257213384048)\n",
      "collections_12_mths_ex_med: (0.0001180667242352515)\n",
      "home_ownership_ANY: (0.00011238552039449738)\n",
      "chargeoff_within_12_mths: (7.149626019562056e-05)\n",
      "recoveries: (0.0)\n",
      "collection_recovery_fee: (0.0)\n",
      "policy_code: (0.0)\n",
      "acc_now_delinq: (0.0)\n",
      "delinq_amnt: (0.0)\n",
      "num_tl_120dpd_2m: (0.0)\n",
      "num_tl_30dpd: (0.0)\n",
      "tax_liens: (0.0)\n",
      "pymnt_plan_n: (0.0)\n",
      "hardship_flag_N: (0.0)\n",
      "debt_settlement_flag_N: (0.0)\n"
     ]
    }
   ],
   "source": [
    "# List the features sorted in descending order by feature importance\n",
    "\n",
    "# Get feature importances from the model\n",
    "feature_importances = rand_forest_model.feature_importances_\n",
    "\n",
    "# Get the feature names from the training data\n",
    "feature_names = X_train.columns\n",
    "\n",
    "# Create a list of tuples, where each tuple contains a feature name and its importance\n",
    "features_importance = sorted(zip(feature_names, feature_importances), key=lambda x: x[1], reverse=True)\n",
    "\n",
    "# Print the sorted feature importances\n",
    "for feature, importance in features_importance:\n",
    "    print(f\"{feature}: ({importance})\")\n"
   ]
  },
  {
   "cell_type": "markdown",
   "id": "b04fce37-fd90-4686-b4dd-7a792546ae1f",
   "metadata": {},
   "source": [
    "### Easy Ensemble AdaBoost Classifier"
   ]
  },
  {
   "cell_type": "code",
   "execution_count": 16,
   "id": "c21f57a1-525e-4338-9b7b-c4a43bd8dabe",
   "metadata": {},
   "outputs": [],
   "source": [
    "from sklearn.preprocessing import StandardScaler\n",
    "\n",
    "#First create standard scalar\n",
    "scaler = StandardScaler()\n",
    "\n",
    "#Fit scalar to training data\n",
    "X_scaler = scaler.fit(X_train)\n",
    "\n",
    "# Scale the data.\n",
    "X_train_scale = X_scaler.transform(X_train)\n",
    "X_test_scale = X_scaler.transform(X_test)"
   ]
  },
  {
   "cell_type": "code",
   "execution_count": 17,
   "id": "fda59733-b93a-4a31-8515-2eb7169cf226",
   "metadata": {},
   "outputs": [],
   "source": [
    "from imblearn.ensemble import EasyEnsembleClassifier\n",
    "\n",
    "ensemble_model = EasyEnsembleClassifier(n_estimators=100, random_state=1)\n",
    "ensemble_model = ensemble_model.fit(X_train_scale, y_train)"
   ]
  },
  {
   "cell_type": "code",
   "execution_count": 18,
   "id": "ef0c56ed-ec05-456d-b0fb-d75f9289e724",
   "metadata": {},
   "outputs": [
    {
     "data": {
      "text/plain": [
       "0.8877651845393781"
      ]
     },
     "execution_count": 18,
     "metadata": {},
     "output_type": "execute_result"
    }
   ],
   "source": [
    "# Calculated the balanced accuracy score\n",
    "from sklearn.metrics import accuracy_score\n",
    "prediction = ensemble_model.predict(X_test_scale)\n",
    "accurate_score = accuracy_score(y_test, predictions)\n",
    "accurate_score"
   ]
  },
  {
   "cell_type": "code",
   "execution_count": 19,
   "id": "cd2cc68b-210c-4ff1-bb76-60a8b8bd9724",
   "metadata": {},
   "outputs": [
    {
     "data": {
      "text/html": [
       "<div>\n",
       "<style scoped>\n",
       "    .dataframe tbody tr th:only-of-type {\n",
       "        vertical-align: middle;\n",
       "    }\n",
       "\n",
       "    .dataframe tbody tr th {\n",
       "        vertical-align: top;\n",
       "    }\n",
       "\n",
       "    .dataframe thead th {\n",
       "        text-align: right;\n",
       "    }\n",
       "</style>\n",
       "<table border=\"1\" class=\"dataframe\">\n",
       "  <thead>\n",
       "    <tr style=\"text-align: right;\">\n",
       "      <th></th>\n",
       "      <th>Predicted High Risk</th>\n",
       "      <th>Predicted Low Risk</th>\n",
       "    </tr>\n",
       "  </thead>\n",
       "  <tbody>\n",
       "    <tr>\n",
       "      <th>Actual High Risk</th>\n",
       "      <td>76</td>\n",
       "      <td>11</td>\n",
       "    </tr>\n",
       "    <tr>\n",
       "      <th>Actual Low Risk</th>\n",
       "      <td>1062</td>\n",
       "      <td>16056</td>\n",
       "    </tr>\n",
       "  </tbody>\n",
       "</table>\n",
       "</div>"
      ],
      "text/plain": [
       "                  Predicted High Risk  Predicted Low Risk\n",
       "Actual High Risk                   76                  11\n",
       "Actual Low Risk                  1062               16056"
      ]
     },
     "execution_count": 19,
     "metadata": {},
     "output_type": "execute_result"
    }
   ],
   "source": [
    "# Display the confusion matrix\n",
    "from sklearn.metrics import confusion_matrix\n",
    "\n",
    "y_predict = ensemble_model.predict(X_test_scale)\n",
    "con_mat = confusion_matrix(y_test, y_predict)\n",
    "\n",
    "con_mat_df = pd.DataFrame(\n",
    "    con_mat, index=[\"Actual High Risk\", \"Actual Low Risk\"], columns=[\"Predicted High Risk\", \"Predicted Low Risk\"]\n",
    ")\n",
    "\n",
    "con_mat_df"
   ]
  },
  {
   "cell_type": "code",
   "execution_count": 20,
   "id": "eb4c127d-90ed-4994-b99b-2ca1359919b5",
   "metadata": {},
   "outputs": [
    {
     "name": "stdout",
     "output_type": "stream",
     "text": [
      "                   pre       rec       spe        f1       geo       iba       sup\n",
      "\n",
      "  high_risk       0.07      0.87      0.94      0.12      0.91      0.81        87\n",
      "   low_risk       1.00      0.94      0.87      0.97      0.91      0.82     17118\n",
      "\n",
      "avg / total       0.99      0.94      0.87      0.96      0.91      0.82     17205\n",
      "\n"
     ]
    }
   ],
   "source": [
    "# Print the imbalanced classification report\n",
    "from imblearn.metrics import classification_report_imbalanced\n",
    "print(classification_report_imbalanced(y_test, y_predict)) \n"
   ]
  },
  {
   "cell_type": "code",
   "execution_count": null,
   "id": "0a2b3f3a-71a4-47bc-b20f-17fe470b80b3",
   "metadata": {},
   "outputs": [],
   "source": []
  }
 ],
 "metadata": {
  "kernelspec": {
   "display_name": "Python 3 (ipykernel)",
   "language": "python",
   "name": "python3"
  },
  "language_info": {
   "codemirror_mode": {
    "name": "ipython",
    "version": 3
   },
   "file_extension": ".py",
   "mimetype": "text/x-python",
   "name": "python",
   "nbconvert_exporter": "python",
   "pygments_lexer": "ipython3",
   "version": "3.8.19"
  }
 },
 "nbformat": 4,
 "nbformat_minor": 5
}
